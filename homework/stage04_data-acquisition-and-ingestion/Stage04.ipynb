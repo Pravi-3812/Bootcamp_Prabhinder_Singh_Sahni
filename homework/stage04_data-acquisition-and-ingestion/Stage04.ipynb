{
 "cells": [
  {
   "cell_type": "code",
   "execution_count": 28,
   "id": "97ff3c6d-6446-4062-8fcf-fa1c1e8e26b3",
   "metadata": {},
   "outputs": [
    {
     "name": "stdout",
     "output_type": "stream",
     "text": [
      "Loaded ALPHAVANTAGE_API_KEY? False\n"
     ]
    }
   ],
   "source": [
    "import os, json, time, datetime as dt, csv, pathlib\n",
    "from typing import Dict, List\n",
    "import requests\n",
    "import pandas as pd\n",
    "from bs4 import BeautifulSoup\n",
    "from dotenv import load_dotenv\n",
    "import yfinance as yf\n",
    "from bs4 import BeautifulSoup\n",
    "DATA_RAW = pathlib.Path(\"data/raw\")\n",
    "DATA_RAW.mkdir(parents=True, exist_ok=True)\n",
    "\n",
    "load_dotenv()\n",
    "ALPHA_KEY = os.getenv(\"ALPHAVANTAGE_API_KEY\")\n",
    "print(\"Loaded ALPHAVANTAGE_API_KEY?\", bool(ALPHA_KEY))"
   ]
  },
  {
   "cell_type": "code",
   "execution_count": 29,
   "id": "26222a4f-088c-4183-8f22-9355bb676971",
   "metadata": {},
   "outputs": [],
   "source": [
    "def safe_stamp():\n",
    "    return dt.datetime.now().strftime(\"%Y%m%d-%H%M%S\")\n",
    "\n",
    "def safe_filename(prefix: str, meta: Dict[str, str]) -> str:\n",
    "    mid = \"_\".join([f\"{k}-{str(v).replace(' ', '-')[:20]}\" for k, v in meta.items()])\n",
    "    return f\"{prefix}_{mid}_{safe_stamp()}.csv\"\n",
    "\n",
    "def validate_df(df: pd.DataFrame, required_cols: List[str], dtypes_map: Dict[str, str]) -> Dict[str, str]:\n",
    "    msgs = {}\n",
    "    missing = [c for c in required_cols if c not in df.columns]\n",
    "    if missing:\n",
    "        msgs['missing_cols'] = f\"Missing columns: {missing}\"\n",
    "    for col, dtype in dtypes_map.items():\n",
    "        if col in df.columns:\n",
    "            try:\n",
    "                if dtype == 'datetime64[ns]':\n",
    "                    pd.to_datetime(df[col])\n",
    "                elif dtype == 'float':\n",
    "                    pd.to_numeric(df[col])\n",
    "            except Exception as e:\n",
    "                msgs[f'dtype_{col}'] = f\"Failed to coerce {col} to {dtype}: {e}\"\n",
    "    na_counts = df.isna().sum().sum()\n",
    "    msgs['na_total'] = f\"Total NA values: {na_counts}\"\n",
    "    return msgs"
   ]
  },
  {
   "cell_type": "code",
   "execution_count": 27,
   "id": "058ae681-e3f0-4518-a010-f11865ad3459",
   "metadata": {},
   "outputs": [
    {
     "name": "stderr",
     "output_type": "stream",
     "text": [
      "C:\\Users\\prabh\\AppData\\Local\\Temp\\ipykernel_6588\\3007642104.py:2: FutureWarning: YF.download() has changed argument auto_adjust default to True\n",
      "  df_api = yf.download(SYMBOL, period=\"6mo\", interval=\"1d\").reset_index()[['Date','Open']]\n",
      "[*********************100%***********************]  1 of 1 completed"
     ]
    },
    {
     "name": "stdout",
     "output_type": "stream",
     "text": [
      "          Date        Open\n",
      "0   2025-02-21  245.349441\n",
      "1   2025-02-24  244.331928\n",
      "2   2025-02-25  247.394445\n",
      "3   2025-02-26  243.733409\n",
      "4   2025-02-27  238.825414\n",
      "..         ...         ...\n",
      "120 2025-08-14  234.059998\n",
      "121 2025-08-15  234.000000\n",
      "122 2025-08-18  231.699997\n",
      "123 2025-08-19  231.279999\n",
      "124 2025-08-20  229.979996\n",
      "\n",
      "[125 rows x 2 columns]\n",
      "Saved: data\\raw\\api_source-yfinance_symbol-AAPL_20250821-024210.csv\n"
     ]
    },
    {
     "name": "stderr",
     "output_type": "stream",
     "text": [
      "\n"
     ]
    }
   ],
   "source": [
    "SYMBOL = \"AAPL\"\n",
    "df_api = yf.download(SYMBOL, period=\"6mo\", interval=\"1d\").reset_index()[['Date','Open']]\n",
    "df_api.columns = ['Date','Open']\n",
    "df_api = df_api.sort_values('Date').reset_index(drop=True)\n",
    "\n",
    "\n",
    "fname = safe_filename(prefix=\"api\", meta={\"source\": \"yfinance\", \"symbol\": SYMBOL})\n",
    "out_path = DATA_RAW / fname\n",
    "df_api.to_csv(out_path, index=False)\n",
    "print(df_api)\n",
    "print(\"Saved:\", out_path)"
   ]
  },
  {
   "cell_type": "code",
   "execution_count": 31,
   "id": "7ebc7550-343e-41ac-8049-82d880bc2074",
   "metadata": {},
   "outputs": [
    {
     "name": "stdout",
     "output_type": "stream",
     "text": [
      "Scraped shape: (503, 8)\n",
      "    Symbol             Security              GICSSector  \\\n",
      "0      MMM                   3M             Industrials   \n",
      "1      AOS          A. O. Smith             Industrials   \n",
      "2      ABT  Abbott Laboratories             Health Care   \n",
      "3     ABBV               AbbVie             Health Care   \n",
      "4      ACN            Accenture  Information Technology   \n",
      "..     ...                  ...                     ...   \n",
      "498    XYL           Xylem Inc.             Industrials   \n",
      "499    YUM          Yum! Brands  Consumer Discretionary   \n",
      "500   ZBRA   Zebra Technologies  Information Technology   \n",
      "501    ZBH        Zimmer Biomet             Health Care   \n",
      "502    ZTS               Zoetis             Health Care   \n",
      "\n",
      "                                GICS Sub-Industry    Headquarters Location  \\\n",
      "0                        Industrial Conglomerates    Saint Paul, Minnesota   \n",
      "1                               Building Products     Milwaukee, Wisconsin   \n",
      "2                           Health Care Equipment  North Chicago, Illinois   \n",
      "3                                   Biotechnology  North Chicago, Illinois   \n",
      "4                  IT Consulting & Other Services          Dublin, Ireland   \n",
      "..                                            ...                      ...   \n",
      "498  Industrial Machinery & Supplies & Components   White Plains, New York   \n",
      "499                                   Restaurants     Louisville, Kentucky   \n",
      "500            Electronic Equipment & Instruments   Lincolnshire, Illinois   \n",
      "501                         Health Care Equipment          Warsaw, Indiana   \n",
      "502                               Pharmaceuticals   Parsippany, New Jersey   \n",
      "\n",
      "     Date added      CIK      Founded  \n",
      "0    1957-03-04    66740         1902  \n",
      "1    2017-07-26    91142         1916  \n",
      "2    1957-03-04     1800         1888  \n",
      "3    2012-12-31  1551152  2013 (1888)  \n",
      "4    2011-07-06  1467373         1989  \n",
      "..          ...      ...          ...  \n",
      "498  2011-11-01  1524472         2011  \n",
      "499  1997-10-06  1041061         1997  \n",
      "500  2019-12-23   877212         1969  \n",
      "501  2001-08-07  1136869         1927  \n",
      "502  2013-06-21  1555280         1952  \n",
      "\n",
      "[503 rows x 8 columns]\n"
     ]
    }
   ],
   "source": [
    "url = \"https://en.wikipedia.org/wiki/List_of_S%26P_500_companies\"\n",
    "response = requests.get(url)\n",
    "soup = BeautifulSoup(response.text, \"html.parser\")\n",
    "\n",
    "# Parse the first table\n",
    "table = soup.find(\"table\", {\"id\": \"constituents\"})\n",
    "rows = table.find_all(\"tr\")\n",
    "\n",
    "data = []\n",
    "for row in rows[1:]:\n",
    "    cols = row.find_all([\"td\", \"th\"])\n",
    "    cols = [c.get_text(strip=True) for c in cols]\n",
    "    if cols:\n",
    "        data.append(cols)\n",
    "\n",
    "# Build DataFrame\n",
    "headers = [h.get_text(strip=True) for h in rows[0].find_all(\"th\")]\n",
    "df_scrape = pd.DataFrame(data, columns=headers)\n",
    "\n",
    "# Validation (e.g., Symbol = text, CIK = numeric)\n",
    "df_scrape[\"CIK\"] = pd.to_numeric(df_scrape[\"CIK\"], errors=\"coerce\")\n",
    "assert df_scrape[\"Symbol\"].dtype == object\n",
    "print(\"Scraped shape:\", df_scrape.shape)\n",
    "\n",
    "# Save raw data\n",
    "df_scrape.to_csv(\"data/raw/sp500_companies.csv\", index=False)\n",
    "print(df_scrape)"
   ]
  },
  {
   "cell_type": "code",
   "execution_count": null,
   "id": "25e24c31-56ae-4cc3-90bf-189639bab4b3",
   "metadata": {},
   "outputs": [],
   "source": []
  }
 ],
 "metadata": {
  "kernelspec": {
   "display_name": "Python 3 (ipykernel)",
   "language": "python",
   "name": "python3"
  },
  "language_info": {
   "codemirror_mode": {
    "name": "ipython",
    "version": 3
   },
   "file_extension": ".py",
   "mimetype": "text/x-python",
   "name": "python",
   "nbconvert_exporter": "python",
   "pygments_lexer": "ipython3",
   "version": "3.10.18"
  }
 },
 "nbformat": 4,
 "nbformat_minor": 5
}
