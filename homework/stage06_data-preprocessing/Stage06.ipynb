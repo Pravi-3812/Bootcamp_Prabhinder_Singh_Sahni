{
 "cells": [
  {
   "cell_type": "code",
   "execution_count": 7,
   "id": "6741bbc2-e6d7-48a3-9a1e-c2557055e841",
   "metadata": {},
   "outputs": [
    {
     "name": "stdout",
     "output_type": "stream",
     "text": [
      "File already exists at data\\raw\\sample_data.csv. Skipping CSV creation to avoid overwrite.\n"
     ]
    }
   ],
   "source": [
    "import os\n",
    "import pandas as pd\n",
    "import numpy as np\n",
    "\n",
    "# Define directory paths\n",
    "raw_dir = os.path.join('data', 'raw')  # Define raw_dir before using it\n",
    "processed_dir = os.path.join('data', 'processed')  # Define processed_dir before using it\n",
    "\n",
    "# Create folders if they don't exist\n",
    "try:\n",
    "    os.makedirs(raw_dir, exist_ok=True)\n",
    "    os.makedirs(processed_dir, exist_ok=True)\n",
    "except PermissionError:\n",
    "    # Alternative: use a directory where you have write permissions\n",
    "    raw_dir = os.path.join(os.path.expanduser('~'), 'data', 'raw')\n",
    "    processed_dir = os.path.join(os.path.expanduser('~'), 'data', 'processed')\n",
    "    os.makedirs(raw_dir, exist_ok=True)\n",
    "    os.makedirs(processed_dir, exist_ok=True)\n",
    "    print(f\"Using alternative directory: {os.path.dirname(raw_dir)}\")\n",
    "\n",
    "# Define the sample data\n",
    "data = {\n",
    "    'age': [34, 45, 29, 50, 38, np.nan, 41],\n",
    "    'income': [55000, np.nan, 42000, 58000, np.nan, np.nan, 49000],\n",
    "    'score': [0.82, 0.91, np.nan, 0.76, 0.88, 0.65, 0.79],\n",
    "    'zipcode': ['90210', '10001', '60614', '94103', '73301', '12345', '94105'],\n",
    "    'city': ['Beverly', 'New York', 'Chicago', 'SF', 'Austin', 'Unknown', 'San Francisco'],\n",
    "    'extra_data': [np.nan, 42, np.nan, np.nan, np.nan, 5, np.nan]\n",
    "}\n",
    "\n",
    "# Create DataFrame\n",
    "df = pd.DataFrame(data)\n",
    "\n",
    "# Save to CSV in raw data folder\n",
    "csv_path = os.path.join(raw_dir, 'sample_data.csv')\n",
    "if not os.path.exists(csv_path):\n",
    "    df.to_csv(csv_path, index=False)\n",
    "    print(f'Sample dataset created and saved to {csv_path}')\n",
    "else:\n",
    "    print(f'File already exists at {csv_path}. Skipping CSV creation to avoid overwrite.')"
   ]
  },
  {
   "cell_type": "code",
   "execution_count": 16,
   "id": "f529a112-792a-4532-906d-a70a01fa9b2b",
   "metadata": {},
   "outputs": [
    {
     "name": "stdout",
     "output_type": "stream",
     "text": [
      "Current working directory: C:\\Users\\prabh\n"
     ]
    },
    {
     "name": "stderr",
     "output_type": "stream",
     "text": [
      "C:\\Users\\prabh\\AppData\\Local\\Temp\\ipykernel_32508\\1092510064.py:10: FutureWarning: DataFrame.fillna with 'method' is deprecated and will raise in a future version. Use obj.ffill() or obj.bfill() instead.\n",
      "  df_fill_ffill = df.fillna(method='ffill')\n"
     ]
    }
   ],
   "source": [
    "print(\"Current working directory:\", os.getcwd())\n",
    "# Fill missing with median\n",
    "df['income'] = df['income'].fillna(df['income'].median())\n",
    "df['age'] = df['age'].fillna(df['age'].median())\n",
    "\n",
    "\n",
    "# Alternative strategies\n",
    "df_fill_mean = df.fillna(df.mean(numeric_only=True))\n",
    "df_fill_median = df.fillna(df.median(numeric_only=True))\n",
    "df_fill_ffill = df.fillna(method='ffill')\n",
    "\n",
    "# Threshold-based row drop example\n",
    "df_drop_thresh = df.dropna(thresh=int(0.5*df.shape[1]))"
   ]
  },
  {
   "cell_type": "code",
   "execution_count": 19,
   "id": "875a50d8-fcea-4195-8eb2-2d8460205e5d",
   "metadata": {},
   "outputs": [],
   "source": [
    "from sklearn.preprocessing import MinMaxScaler, StandardScaler\n",
    "# MinMax scaling for numeric_col\n",
    "scaler = MinMaxScaler()\n",
    "df['numeric scaled'] = scaler.fit_transform(df[['income']])\n",
    "\n",
    "# StandardScaler\n",
    "standardizer = StandardScaler()\n",
    "df['numeric_standard'] = standardizer.fit_transform(df[['income']])"
   ]
  },
  {
   "cell_type": "code",
   "execution_count": 20,
   "id": "46b6e3ff-f41c-4060-bb43-64f87181d1ef",
   "metadata": {},
   "outputs": [
    {
     "name": "stdout",
     "output_type": "stream",
     "text": [
      "    age   income  score zipcode           city  extra_data  numeric scaled  \\\n",
      "0  34.0  55000.0   0.82   90210        Beverly         NaN          0.8125   \n",
      "1  45.0  52000.0   0.91   10001       New York        42.0          0.6250   \n",
      "2  29.0  42000.0    NaN   60614        Chicago         NaN          0.0000   \n",
      "3  50.0  58000.0   0.76   94103             SF         NaN          1.0000   \n",
      "4  38.0  52000.0   0.88   73301         Austin         NaN          0.6250   \n",
      "5  39.5  52000.0   0.65   12345        Unknown         5.0          0.6250   \n",
      "6  41.0  49000.0   0.79   94105  San Francisco         NaN          0.4375   \n",
      "\n",
      "   numeric_standard  \n",
      "0          0.767146  \n",
      "1          0.122743  \n",
      "2         -2.025264  \n",
      "3          1.411548  \n",
      "4          0.122743  \n",
      "5          0.122743  \n",
      "6         -0.521659  \n"
     ]
    }
   ],
   "source": [
    "print(df)"
   ]
  },
  {
   "cell_type": "code",
   "execution_count": 21,
   "id": "15cb6bd3-9ffe-45f0-808f-77c4bc0da1ba",
   "metadata": {},
   "outputs": [],
   "source": [
    "def fill_missing_median(df, columns=None):\n",
    "    df_copy = df.copy()\n",
    "    if columns is None:\n",
    "        columns = df.select_dtypes(include=np.number).columns\n",
    "    for col in columns:\n",
    "        df_copy[col] = df_copy[col].fillna(df_copy[col].median())\n",
    "    return df_copy\n",
    "\n",
    "def drop_missing(df, columns=None, threshold=None):\n",
    "    df_copy = df.copy()\n",
    "    if columns is not None:\n",
    "        return df_copy.dropna(subset=columns)\n",
    "    if threshold is not None:\n",
    "        return df_copy.dropna(thresh=int(threshold*df_copy.shape[1]))\n",
    "    return df_copy.dropna()\n",
    "\n",
    "def normalize_data(df, columns=None, method='minmax'):\n",
    "    df_copy = df.copy()\n",
    "    if columns is None:\n",
    "        columns = df_copy.select_dtypes(include=np.number).columns\n",
    "    if method=='minmax':\n",
    "        scaler = MinMaxScaler()\n",
    "    else:\n",
    "        scaler = StandardScaler()\n",
    "    df_copy[columns] = scaler.fit_transform(df_copy[columns])\n",
    "    return df_copy\n",
    "\n",
    "def correct_column_types(df):\n",
    "    df_copy = df.copy()\n",
    "    if 'price' in df_copy.columns:\n",
    "        df_copy['price'] = df_copy['price'].str.replace('$','').astype(float)\n",
    "    if 'date_str' in df_copy.columns:\n",
    "        df_copy['date'] = pd.to_datetime(df_copy['date_str'], errors='coerce')\n",
    "    if 'category' in df_copy.columns:\n",
    "        df_copy['category'] = df_copy['category'].str.lower().astype('category')\n",
    "    return df_copy"
   ]
  },
  {
   "cell_type": "code",
   "execution_count": null,
   "id": "ad912f89-87e0-4c24-8439-2c92ef1cda33",
   "metadata": {},
   "outputs": [],
   "source": []
  }
 ],
 "metadata": {
  "kernelspec": {
   "display_name": "Python [conda env:base] *",
   "language": "python",
   "name": "conda-base-py"
  },
  "language_info": {
   "codemirror_mode": {
    "name": "ipython",
    "version": 3
   },
   "file_extension": ".py",
   "mimetype": "text/x-python",
   "name": "python",
   "nbconvert_exporter": "python",
   "pygments_lexer": "ipython3",
   "version": "3.13.5"
  }
 },
 "nbformat": 4,
 "nbformat_minor": 5
}
