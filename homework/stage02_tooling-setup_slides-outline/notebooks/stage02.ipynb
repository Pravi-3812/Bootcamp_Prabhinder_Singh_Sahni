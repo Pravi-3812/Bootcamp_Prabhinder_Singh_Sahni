{
 "cells": [
  {
   "cell_type": "code",
   "execution_count": 1,
   "id": "debedac6-f649-4d42-b602-01f6be6893be",
   "metadata": {},
   "outputs": [
    {
     "name": "stdout",
     "output_type": "stream",
     "text": [
      "Python version: 3.10.18 | packaged by Anaconda, Inc. | (main, Jun  5 2025, 13:08:55) [MSC v.1929 64 bit (AMD64)]\n",
      "Interpreter path: C:\\Users\\prabh\\anaconda3\\envs\\bootcamp_env\\python.exe\n"
     ]
    }
   ],
   "source": [
    "import sys, os\n",
    "print(\"Python version:\", sys.version)\n",
    "print(\"Interpreter path:\", sys.executable)"
   ]
  },
  {
   "cell_type": "code",
   "execution_count": 2,
   "id": "1600da7e-1e87-4879-adc5-76093f3d630f",
   "metadata": {},
   "outputs": [
    {
     "name": "stdout",
     "output_type": "stream",
     "text": [
      "Imports OK\n"
     ]
    }
   ],
   "source": [
    "try:\n",
    "    import numpy as np\n",
    "    from dotenv import load_dotenv\n",
    "    print(\"Imports OK\")\n",
    "except Exception as e:\n",
    "    print(\"Import error:\", e)\n",
    "    raise"
   ]
  },
  {
   "cell_type": "code",
   "execution_count": 3,
   "id": "afa6138b-c522-4e63-aba9-42dc84bf336a",
   "metadata": {},
   "outputs": [
    {
     "name": "stdout",
     "output_type": "stream",
     "text": [
      ".env loaded (if present)\n"
     ]
    }
   ],
   "source": [
    "from pathlib import Path\n",
    "load_dotenv()  # looks for a .env file in the current and parent directories\n",
    "print(\".env loaded (if present)\")"
   ]
  },
  {
   "cell_type": "code",
   "execution_count": 4,
   "id": "578feb8a-2ae4-4dc6-b8b6-07d9ba35a904",
   "metadata": {},
   "outputs": [
    {
     "name": "stdout",
     "output_type": "stream",
     "text": [
      "PROJECT_ROOT: C:\\Users\\prabh\\anaconda_projects\\a335495e-60d3-4f5e-8d56-024542b6c14e\n",
      "DATA_DIR: C:\\Users\\prabh\\anaconda_projects\\a335495e-60d3-4f5e-8d56-024542b6c14e\\data\n"
     ]
    }
   ],
   "source": [
    "from typing import Optional\n",
    "\n",
    "def get_key(name: str, default: Optional[str] = None) -> Optional[str]:\n",
    "    return os.getenv(name, default)\n",
    "\n",
    "PROJECT_ROOT = Path.cwd()\n",
    "DATA_DIR = PROJECT_ROOT / \"data\"\n",
    "print(\"PROJECT_ROOT:\", PROJECT_ROOT)\n",
    "print(\"DATA_DIR:\", DATA_DIR)"
   ]
  },
  {
   "cell_type": "code",
   "execution_count": 5,
   "id": "b0031568-1aea-4d04-bb06-e9c1643ec9d1",
   "metadata": {},
   "outputs": [
    {
     "name": "stdout",
     "output_type": "stream",
     "text": [
      "API_KEY present: True\n",
      "DATA_DIR from env: ./data\n",
      "Ensured data directory exists.\n"
     ]
    }
   ],
   "source": [
    "api_key_present = get_key(\"API_KEY\") is not None\n",
    "data_dir_env = get_key(\"DATA_DIR\", str(DATA_DIR))\n",
    "print(\"API_KEY present:\", api_key_present)\n",
    "print(\"DATA_DIR from env:\", data_dir_env)\n",
    "\n",
    "# Ensure data directory exists (non-destructive)\n",
    "Path(data_dir_env).mkdir(parents=True, exist_ok=True)\n",
    "print(\"Ensured data directory exists.\")"
   ]
  },
  {
   "cell_type": "code",
   "execution_count": 6,
   "id": "b77ee182-5b03-4916-a3b9-5dbd904883f6",
   "metadata": {},
   "outputs": [
    {
     "name": "stdout",
     "output_type": "stream",
     "text": [
      "Array: [1 2 3 4 5]\n",
      "Mean: 3.0\n",
      "Vectorized * 10: [10 20 30 40 50]\n"
     ]
    }
   ],
   "source": [
    "arr = np.array([1, 2, 3, 4, 5])\n",
    "print(\"Array:\", arr)\n",
    "print(\"Mean:\", arr.mean())\n",
    "print(\"Vectorized * 10:\", arr * 10)"
   ]
  },
  {
   "cell_type": "code",
   "execution_count": null,
   "id": "cf7a5764-ab96-4700-9a40-c359a4f8140b",
   "metadata": {},
   "outputs": [],
   "source": []
  }
 ],
 "metadata": {
  "kernelspec": {
   "display_name": "Python [conda env:bootcamp_env]",
   "language": "python",
   "name": "conda-env-bootcamp_env-py"
  },
  "language_info": {
   "codemirror_mode": {
    "name": "ipython",
    "version": 3
   },
   "file_extension": ".py",
   "mimetype": "text/x-python",
   "name": "python",
   "nbconvert_exporter": "python",
   "pygments_lexer": "ipython3",
   "version": "3.10.18"
  }
 },
 "nbformat": 4,
 "nbformat_minor": 5
}
